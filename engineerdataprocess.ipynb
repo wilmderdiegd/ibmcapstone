# Feature Engineering and Data Preprocessing

# Import necessary libraries
import pandas as pd
from sklearn.preprocessing import LabelEncoder
from sklearn.model_selection import train_test_split
from sklearn.preprocessing import StandardScaler

# Load the dataset
data = pd.read_csv('Spacex.csv')

# Handle missing values (if any)
data = data.dropna()  # or use imputation techniques

# Encode categorical variables
label_encoder = LabelEncoder()
data['Rocket Type'] = label_encoder.fit_transform(data['Rocket Type'])
data['Launch Site'] = label_encoder.fit_transform(data['Launch Site'])

# Feature Engineering: Create new feature based on mission type and payload mass
data['Mission Complexity'] = data['Payload Mass (kg)'] * data['Mission Type'].apply(lambda x: 1 if 'Resupply' in x else 2)

# Splitting the data into features and target variable
X = data.drop(['Landing Success', 'Mission Type'], axis=1)  # Drop target and unnecessary columns
y = data['Landing Success']

# Splitting the dataset into training and test sets
X_train, X_test, y_train, y_test = train_test_split(X, y, test_size=0.2, random_state=42)

# Scaling the features (optional but recommended for some models)
scaler = StandardScaler()
X_train = scaler.fit_transform(X_train)
X_test = scaler.transform(X_test)

# Display the first few rows of the preprocessed data
print(X_train[:5])
