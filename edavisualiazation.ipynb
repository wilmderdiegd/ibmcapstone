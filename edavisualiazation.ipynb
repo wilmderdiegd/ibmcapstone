# Exploratory Data Analysis (EDA) and Visualization

# Import necessary libraries
import pandas as pd
import numpy as np
import matplotlib.pyplot as plt
import seaborn as sns
import folium

# Load the SpaceX dataset
data = pd.read_csv('Spacex.csv')  # Adjust the file path if necessary

# Display basic information about the dataset
print(data.info())
print(data.head())

# Descriptive statistics
print(data.describe())

# EDA: Visualizing correlation between features
plt.figure(figsize=(10, 6))
sns.heatmap(data.corr(), annot=True, cmap='coolwarm', fmt='.2f')
plt.title("Correlation Heatmap")
plt.show()

# EDA: Success rate by launch site
launch_site_success = data.groupby('Launch Site')['Landing Success'].mean()
launch_site_success.plot(kind='bar', figsize=(10, 6), color='skyblue')
plt.title('Landing Success Rate by Launch Site')
plt.ylabel('Success Rate')
plt.show()

# EDA: Success rate by rocket type
rocket_success = data.groupby('Rocket Type')['Landing Success'].mean()
rocket_success.plot(kind='bar', figsize=(10, 6), color='lightgreen')
plt.title('Landing Success Rate by Rocket Type')
plt.ylabel('Success Rate')
plt.show()

# Interactive Map: Launch sites and success rate
map = folium.Map(location=[28.5721, -80.6480], zoom_start=6)  # Center on Florida (adjust accordingly)
for idx, row in data.iterrows():
    folium.CircleMarker(
        location=[row['Lat'], row['Long']],
        radius=9,
        popup=f"Launch Site: {row['Launch Site']}<br>Success Rate: {row['Landing Success']}",
        color='blue' if row['Landing Success'] == 1 else 'red',
        fill=True,
        fill_color='blue' if row['Landing Success'] == 1 else 'red',
        fill_opacity=0.6
    ).add_to(map)

# Save the map as an HTML file
map.save('launch_site_map.html')
