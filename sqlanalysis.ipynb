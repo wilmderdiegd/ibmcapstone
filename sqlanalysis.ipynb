# SQL Analysis for SpaceX Dataset

# Import necessary libraries
import sqlite3
import pandas as pd

# Connect to SQLite database (or any other database)
conn = sqlite3.connect('spacex_data.db')

# Load the SpaceX dataset into the database
data = pd.read_csv('Spacex.csv')
data.to_sql('launch_data', conn, if_exists='replace', index=False)

# Execute SQL queries
query = """
SELECT Rocket_Type, AVG(Landing_Success) AS Avg_Landing_Success
FROM launch_data
GROUP BY Rocket_Type
ORDER BY Avg_Landing_Success DESC
"""
result = pd.read_sql(query, conn)

# Display results
print(result)

# Close the connection
conn.close()
