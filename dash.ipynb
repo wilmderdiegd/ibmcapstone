# Dash Dashboard for Interactive Visualization

# Import necessary libraries
import dash
import dash_core_components as dcc
import dash_html_components as html
import plotly.express as px
import pandas as pd

# Load the SpaceX dataset
data = pd.read_csv('Spacex.csv')

# Create a Dash app
app = dash.Dash(__name__)

# Create an interactive plot using Plotly
fig = px.bar(data_frame=data, x='Rocket Type', y='Landing Success', 
             title='Landing Success by Rocket Type')

# Define the layout of the Dash app
app.layout = html.Div([
    html.H1("SpaceX Falcon 9 Landing Prediction Dashboard"),
    dcc.Graph(figure=fig),
])

# Run the app
if __name__ == '__main__':
    app.run_server(debug=True)
